{
 "cells": [
  {
   "cell_type": "code",
   "execution_count": 49,
   "id": "098b2971-5d7a-4d7f-aec2-3400a31a72b0",
   "metadata": {},
   "outputs": [],
   "source": [
    "from pygam import LinearGAM, s, f, l\n",
    "import pandas as pd\n",
    "import patsy as pt\n",
    "import numpy as np\n",
    "from plotly import subplots\n",
    "import plotly.offline as py\n",
    "import plotly.graph_objs as go\n",
    "\n",
    "# Prep the dataset\n",
    "#   Put this back on one line!!\n",
    "data = pd.read_csv( \"https://github.com/dustywhite7/econ8310-assignment1/raw/main/assignment_data_train.csv\" )"
   ]
  },
  {
   "cell_type": "code",
   "execution_count": 50,
   "id": "0aae681d",
   "metadata": {},
   "outputs": [
    {
     "name": "stderr",
     "output_type": "stream",
     "text": [
      "  0% (0 of 11) |                         | Elapsed Time: 0:00:00 ETA:  --:--:--\n",
      "  9% (1 of 11) |##                       | Elapsed Time: 0:00:00 ETA:   0:00:00\n",
      " 18% (2 of 11) |####                     | Elapsed Time: 0:00:00 ETA:   0:00:01\n",
      " 27% (3 of 11) |######                   | Elapsed Time: 0:00:00 ETA:   0:00:00\n",
      " 36% (4 of 11) |#########                | Elapsed Time: 0:00:00 ETA:   0:00:00\n",
      " 45% (5 of 11) |###########              | Elapsed Time: 0:00:00 ETA:   0:00:00\n",
      " 54% (6 of 11) |#############            | Elapsed Time: 0:00:00 ETA:   0:00:00\n",
      " 63% (7 of 11) |###############          | Elapsed Time: 0:00:00 ETA:   0:00:00\n",
      " 72% (8 of 11) |##################       | Elapsed Time: 0:00:01 ETA:   0:00:00\n",
      " 81% (9 of 11) |####################     | Elapsed Time: 0:00:01 ETA:   0:00:00\n",
      " 90% (10 of 11) |#####################   | Elapsed Time: 0:00:01 ETA:   0:00:00\n",
      "100% (11 of 11) |########################| Elapsed Time: 0:00:01 Time:  0:00:01\n"
     ]
    }
   ],
   "source": [
    "# Generate x and y matrices\n",
    "eqn = \"\"\"trips ~ -1 + month + day + \n",
    "      hour\"\"\"\n",
    "y,x = pt.dmatrices( eqn, data=data )\n",
    "\n",
    "# Initialize and fit the model\n",
    "model = LinearGAM( s(0) + s(1) + s(2) )\n",
    "modelFit = model.gridsearch( np.asarray(x), y )"
   ]
  },
  {
   "cell_type": "code",
   "execution_count": 51,
   "id": "db5ddbb4",
   "metadata": {},
   "outputs": [
    {
     "data": {
      "text/plain": [
       "Layout({\n",
       "    'annotations': [{'font': {'size': 16},\n",
       "                     'showarrow': False,\n",
       "                     'text': 'month',\n",
       "                     'x': 0.14444444444444446,\n",
       "                     'xanchor': 'center',\n",
       "                     'xref': 'paper',\n",
       "                     'y': 1.0,\n",
       "                     'yanchor': 'bottom',\n",
       "                     'yref': 'paper'},\n",
       "                    {'font': {'size': 16},\n",
       "                     'showarrow': False,\n",
       "                     'text': 'day',\n",
       "                     'x': 0.5,\n",
       "                     'xanchor': 'center',\n",
       "                     'xref': 'paper',\n",
       "                     'y': 1.0,\n",
       "                     'yanchor': 'bottom',\n",
       "                     'yref': 'paper'},\n",
       "                    {'font': {'size': 16},\n",
       "                     'showarrow': False,\n",
       "                     'text': 'hour',\n",
       "                     'x': 0.8555555555555556,\n",
       "                     'xanchor': 'center',\n",
       "                     'xref': 'paper',\n",
       "                     'y': 1.0,\n",
       "                     'yanchor': 'bottom',\n",
       "                     'yref': 'paper'}],\n",
       "    'height': 800,\n",
       "    'showlegend': False,\n",
       "    'template': '...',\n",
       "    'title': {'text': 'pyGAM'},\n",
       "    'width': 1200,\n",
       "    'xaxis': {'anchor': 'y', 'domain': [0.0, 0.2888888888888889]},\n",
       "    'xaxis2': {'anchor': 'y2', 'domain': [0.35555555555555557, 0.6444444444444445]},\n",
       "    'xaxis3': {'anchor': 'y3', 'domain': [0.7111111111111111, 1.0]},\n",
       "    'yaxis': {'anchor': 'x', 'domain': [0.0, 1.0]},\n",
       "    'yaxis2': {'anchor': 'x2', 'domain': [0.0, 1.0]},\n",
       "    'yaxis3': {'anchor': 'x3', 'domain': [0.0, 1.0]}\n",
       "})"
      ]
     },
     "execution_count": 51,
     "metadata": {},
     "output_type": "execute_result"
    }
   ],
   "source": [
    "# Specify plot titles and shape\n",
    "titles = [ 'month', 'day', 'hour' ]\n",
    "\n",
    "fig = subplots.make_subplots(rows = 1, cols = 3, \n",
    "\tsubplot_titles = titles)\n",
    "fig['layout'].update(height = 800, width = 1200, \n",
    "\ttitle='pyGAM', showlegend = False)"
   ]
  },
  {
   "cell_type": "code",
   "execution_count": 52,
   "id": "9a25bda0",
   "metadata": {},
   "outputs": [
    {
     "data": {
      "text/plain": [
       "'temp-plot.html'"
      ]
     },
     "execution_count": 52,
     "metadata": {},
     "output_type": "execute_result"
    }
   ],
   "source": [
    "for i, title in enumerate(titles):\n",
    "  XX = modelFit.generate_X_grid(term=i)\n",
    "  pdep, confi = modelFit.partial_dependence(term=i, width=.95)\n",
    "  trace = go.Scatter(x=XX[:,i], y=pdep, mode='lines', \n",
    "  \tname='Effect')\n",
    "  ci1 = go.Scatter(x = XX[:,i], y=confi[:,0], \n",
    "  \tline=dict(dash='dash', color='grey'), \n",
    "    \tname='95% CI')\n",
    "  ci2 = go.Scatter(x = XX[:,i], y=confi[:,1], \n",
    "  \tline=dict(dash='dash', color='grey'), \n",
    "    name='95% CI')\n",
    "\n",
    "  if i<3:\n",
    "    fig.append_trace(trace, 1, i+1)\n",
    "    fig.append_trace(ci1, 1, i+1)\n",
    "    fig.append_trace(ci2, 1, i+1)\n",
    "  else:\n",
    "    fig.append_trace(trace, 2, i-2)\n",
    "    fig.append_trace(ci1, 2, i-2)\n",
    "    fig.append_trace(ci2, 2, i-2)\n",
    "    \n",
    "py.plot(fig)"
   ]
  },
  {
   "cell_type": "code",
   "execution_count": 55,
   "id": "8fcbe123",
   "metadata": {},
   "outputs": [],
   "source": [
    "dataNEW = pd.read_csv( \"assignment_data_test.csv\" )\n",
    "\n",
    "#use the model to predict the number of trips using columns month, day, and hour\n",
    "pred = modelFit.predict(dataNEW[['month', 'day', 'hour']])\n"
   ]
  }
 ],
 "metadata": {
  "kernelspec": {
   "display_name": "Python 3 (ipykernel)",
   "language": "python",
   "name": "python3"
  },
  "language_info": {
   "codemirror_mode": {
    "name": "ipython",
    "version": 3
   },
   "file_extension": ".py",
   "mimetype": "text/x-python",
   "name": "python",
   "nbconvert_exporter": "python",
   "pygments_lexer": "ipython3",
   "version": "3.11.5"
  }
 },
 "nbformat": 4,
 "nbformat_minor": 5
}
